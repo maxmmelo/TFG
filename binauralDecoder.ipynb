{
 "cells": [
  {
   "cell_type": "code",
   "execution_count": 2,
   "metadata": {},
   "outputs": [],
   "source": [
    "import numpy as np\n",
    "import matplotlib.pyplot as plt\n",
    "import soundfile as sf"
   ]
  },
  {
   "cell_type": "code",
   "execution_count": 3,
   "metadata": {},
   "outputs": [],
   "source": [
    "source,fs = sf.read(\"utis/veu.wav\")"
   ]
  },
  {
   "cell_type": "code",
   "execution_count": 4,
   "metadata": {},
   "outputs": [],
   "source": [
    "l_HRTF0, fs = sf.read(\"HRTFnova/0az0el_left.wav\")\n",
    "l_HRTF90, fs = sf.read(\"HRTFnova/90az0el_left.wav\")\n",
    "l_HRTF180, fs = sf.read(\"HRTFnova/180az0el_left.wav\")\n",
    "l_HRTF270, fs = sf.read(\"HRTFnova/270az0el_left.wav\")\n",
    "l_HRTFtop, fs = sf.read(\"HRTFnova/0az90el_left.wav\")\n",
    "l_HRTFbot, fs = sf.read(\"HRTFnova/0azneg45el_left.wav\")\n",
    "\n",
    "r_HRTF0, fs = sf.read(\"HRTFnova/0az0el_right.wav\")\n",
    "r_HRTF90, fs = sf.read(\"HRTFnova/90az0el_right.wav\")\n",
    "r_HRTF180, fs = sf.read(\"HRTFnova/180az0el_right.wav\")\n",
    "r_HRTF270, fs = sf.read(\"HRTFnova/270az0el_right.wav\")\n",
    "r_HRTFtop, fs = sf.read(\"HRTFnova/0az90el_right.wav\")\n",
    "r_HRTFbot, fs = sf.read(\"HRTFnova/0azneg45el_right.wav\")\n",
    "\n",
    "L_HRTF = [l_HRTF0, l_HRTF90, l_HRTF180, l_HRTF270, l_HRTFtop, l_HRTFbot]\n",
    "R_HRTF = [r_HRTF0, r_HRTF90, r_HRTF180, r_HRTF270, r_HRTFtop, r_HRTFbot]"
   ]
  },
  {
   "cell_type": "code",
   "execution_count": 6,
   "metadata": {},
   "outputs": [],
   "source": [
    "tmp_R = np.convolve(source, r_HRTF0)\n",
    "tmp_L = np.convolve(source, l_HRTF0)\n",
    "data0 = np.array([tmp_L,tmp_R])\n",
    "sf.write('resultatsBinaural/binaural0.wav', data0.T, fs)\n",
    "\n",
    "tmp_R = np.convolve(source, r_HRTF90)\n",
    "tmp_L = np.convolve(source, l_HRTF90)\n",
    "data90 = np.array([tmp_L,tmp_R])\n",
    "sf.write('resultatsBinaural/binaural90.wav', data90.T, fs)\n",
    "\n",
    "tmp_R = np.convolve(source, r_HRTF180)\n",
    "tmp_L = np.convolve(source, l_HRTF180)\n",
    "data180 = np.array([tmp_L,tmp_R])\n",
    "sf.write('resultatsBinaural/binaural180.wav', data180.T, fs)\n",
    "\n",
    "tmp_R = np.convolve(source, r_HRTF270)\n",
    "tmp_L = np.convolve(source, l_HRTF270)\n",
    "data270 = np.array([tmp_L,tmp_R])\n",
    "sf.write('resultatsBinaural/binaural270.wav', data270.T, fs)\n",
    "\n",
    "tmp_R = np.convolve(source, r_HRTFtop)\n",
    "tmp_L = np.convolve(source, l_HRTFtop)\n",
    "datatop = np.array([tmp_L,tmp_R])\n",
    "sf.write('resultatsBinaural/binauraltop.wav', datatop.T, fs)\n",
    "\n",
    "tmp_R = np.convolve(source, r_HRTFbot)\n",
    "tmp_L = np.convolve(source, l_HRTFbot)\n",
    "databot = np.array([tmp_L,tmp_R])\n",
    "sf.write('resultatsBinaural/binauralbot.wav', databot.T, fs)"
   ]
  },
  {
   "cell_type": "code",
   "execution_count": null,
   "metadata": {},
   "outputs": [],
   "source": []
  }
 ],
 "metadata": {
  "kernelspec": {
   "display_name": "Python 3",
   "language": "python",
   "name": "python3"
  },
  "language_info": {
   "codemirror_mode": {
    "name": "ipython",
    "version": 3
   },
   "file_extension": ".py",
   "mimetype": "text/x-python",
   "name": "python",
   "nbconvert_exporter": "python",
   "pygments_lexer": "ipython3",
   "version": "3.7.6"
  }
 },
 "nbformat": 4,
 "nbformat_minor": 4
}
