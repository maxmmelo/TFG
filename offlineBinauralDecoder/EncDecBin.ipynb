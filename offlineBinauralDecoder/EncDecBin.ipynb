{
 "cells": [
  {
   "cell_type": "code",
   "execution_count": 2,
   "metadata": {},
   "outputs": [],
   "source": [
    "import numpy as np\n",
    "import matplotlib.pyplot as plt\n",
    "import IPython.display as ipd\n",
    "import soundfile as sf"
   ]
  },
  {
   "cell_type": "markdown",
   "metadata": {},
   "source": [
    "# ENCODER"
   ]
  },
  {
   "cell_type": "code",
   "execution_count": 5,
   "metadata": {},
   "outputs": [],
   "source": [
    "# vertices_2 conté la informació sobre la fine data, és a dir, té dimensió 66x3 i conté totes les coordenades de cada punt\n",
    "# de la malla. \n",
    "# mat_A_0 conté la informació del filtre A_0; mat_A_1, del filtre A1; mat_B:0 del filtre B0 necessaris per a la codificació\n",
    "# en SWF\n",
    "# triplet_indices conté tots els possibles triangles que es poden fer amb la malla de 66 punts. \n",
    "\n",
    "vertices = np.loadtxt(\"matrices/vertices_2.txt\");\n",
    "matrix_A0t = np.loadtxt(\"matrices/mat_A_0.txt\")\n",
    "matrix_A1t = np.loadtxt(\"matrices/mat_A_1.txt\")\n",
    "matrix_B0t = np.loadtxt(\"matrices/mat_B_0.txt\")\n",
    "triplet_indices = np.loadtxt(\"matrices/triplet_indices_good.txt\");"
   ]
  },
  {
   "cell_type": "code",
   "execution_count": 6,
   "metadata": {},
   "outputs": [],
   "source": [
    "matrix_A0 = np.transpose(matrix_A0t)\n",
    "matrix_A1 = np.transpose(matrix_A1t)\n",
    "matrix_B0 = np.transpose(matrix_B0t)"
   ]
  },
  {
   "cell_type": "code",
   "execution_count": 7,
   "metadata": {},
   "outputs": [],
   "source": [
    "#Calcul de les coordenades x, y o z de cada vertex, per a cada possible triangle\n",
    "def getCoordinates(index):\n",
    "    result = triplet_indices.copy()\n",
    "    \n",
    "    for i in range(triplet_indices.shape[0]):\n",
    "        x = int(triplet_indices[i][0])\n",
    "        y = int(triplet_indices[i][1])\n",
    "        z = int(triplet_indices[i][2])\n",
    "        result[i] = [vertices[index][x],vertices[index][y],vertices[index][z]];\n",
    "        \n",
    "    return result\n",
    "#calculem les coordenades\n",
    "x_coordinates = getCoordinates(0)\n",
    "y_coordinates = getCoordinates(1)\n",
    "z_coordinates = getCoordinates(2)"
   ]
  },
  {
   "cell_type": "code",
   "execution_count": 8,
   "metadata": {},
   "outputs": [],
   "source": [
    "# Calcul de les coordenades cartesianes tridimensionals a partir de l'azimut i l'elevació\n",
    "def polarToCartesian(azi, ele):\n",
    "    atorad = np.pi * 2 / 360\n",
    "    x = np.cos(azi * atorad) * np.cos(ele * atorad);\n",
    "    y = np.sin(azi * atorad) * np.cos(ele * atorad);\n",
    "    z = np.sin(ele * atorad);\n",
    "    point = [x,y,z]\n",
    "    return point"
   ]
  },
  {
   "cell_type": "code",
   "execution_count": 9,
   "metadata": {},
   "outputs": [],
   "source": [
    "#Calcula la matriu inversa de la matriu que conté les coordenades de cada vertèx de cada triangle\n",
    "def getInvMatrices():\n",
    "    n = triplet_indices.shape[0]\n",
    "    inverse_matrices = np.zeros((n,9))\n",
    "    for i in range(triplet_indices.shape[0]):\n",
    "\n",
    "        lp1x = x_coordinates[i][0];\n",
    "        lp2x = x_coordinates[i][1];\n",
    "        lp3x = x_coordinates[i][2];\n",
    "\n",
    "\n",
    "        lp1y = y_coordinates[i][0];\n",
    "        lp2y = y_coordinates[i][1];\n",
    "        lp3y = y_coordinates[i][2];\n",
    "\n",
    "        lp1z = z_coordinates[i][0];\n",
    "        lp2z = z_coordinates[i][1];\n",
    "        lp3z = z_coordinates[i][2];\n",
    "        \n",
    "        '''\n",
    "        forma de la matriu\n",
    "        lp1x   lp2x   lp3x\n",
    "        lp1y   lp2y   lp3y\n",
    "        lp1z   lp2z   lp3z\n",
    "        '''\n",
    "        \n",
    "        aux = ((lp1x * ((lp2y * lp3z) - (lp2z * lp3y))) - (lp1y * ((lp2x * lp3z) - \n",
    "                            (lp2z * lp3x))) + (lp1z * ((lp2x * lp3y) - (lp2y * lp3x))));\n",
    "        \n",
    "        invdet = 1 / aux\n",
    "\n",
    "        invmx = np.zeros(9)\n",
    "        invmx[0] = ((lp2y * lp3z) - (lp2z * lp3y)) * invdet;\n",
    "        invmx[3] = ((lp1y * lp3z) - (lp1z * lp3y)) * invdet * (-1);\n",
    "        invmx[6] = ((lp1y * lp2z) - (lp1z * lp2y)) * invdet;\n",
    "        invmx[1] = ((lp2x * lp3z) - (lp2z * lp3x)) * invdet * (-1);\n",
    "        invmx[4] = ((lp1x * lp3z) - (lp1z * lp3x)) * invdet;\n",
    "        invmx[7] = ((lp1x * lp2z) - (lp1z * lp2x)) * invdet * (-1);\n",
    "        invmx[2] = ((lp2x * lp3y) - (lp2y * lp3x)) * invdet;\n",
    "        invmx[5] = ((lp1x * lp3y) - (lp1y * lp3x)) * invdet * (-1);\n",
    "        invmx[8] = ((lp1x * lp2y) - (lp1y * lp2x)) * invdet;\n",
    "        \n",
    "        for j in range(len(invmx)):\n",
    "            inverse_matrices[i,j] = invmx[j];\n",
    "    \n",
    "    return inverse_matrices\n",
    "inverse_matrices = getInvMatrices()\n"
   ]
  },
  {
   "cell_type": "code",
   "execution_count": 10,
   "metadata": {},
   "outputs": [],
   "source": [
    "# Calcula la en quin de tots els triangles de la malla està situada la font sonora \n",
    "# Llavors el guany de cada punt del triplet\n",
    "# Molt similar a VBAP\n",
    "def getGains(azi, ele):\n",
    "    src_location = polarToCartesian(azi, ele)\n",
    "    big_sm_g = -100000.0\n",
    "    best_neg_g_am = 3\n",
    "    temporal_gains = np.zeros(3)\n",
    "    gains = np.zeros(3)\n",
    "    \n",
    "    for i in range(triplet_indices.shape[0]-1):\n",
    "        small_g = 10000000.0\n",
    "        neg_g_am = 3\n",
    "        inv_pointer = 0;\n",
    "        #Càlcul del triangle\n",
    "        for j in range(3):\n",
    "            temporal_gains[j] = 0.0\n",
    "            for k in range(3):\n",
    "                pointer =  3*j + k\n",
    "                temporal_gains[j] = temporal_gains[j] + (src_location[k]*inverse_matrices[i, pointer]) \n",
    "   \n",
    "            if(temporal_gains[j] < small_g):\n",
    "                small_g = temporal_gains[j]\n",
    " \n",
    "            if(temporal_gains[j] >= -0.01):\n",
    "                neg_g_am = neg_g_am - 1 \n",
    "        #Assignació dels guanys        \n",
    "        if((small_g > big_sm_g) and (neg_g_am <= best_neg_g_am)): \n",
    "            big_sm_g = small_g;\n",
    "            best_neg_g_am = neg_g_am;\n",
    "            winner_set=i;\n",
    "            gains[0] = temporal_gains[0];\n",
    "            gains[1] = temporal_gains[1];\n",
    "            gains[2] = temporal_gains[2];\n",
    "    \n",
    "    #Normalització dels guays\n",
    "    power = (gains[0]+gains[1]+gains[2]);\n",
    "    gains[0] = gains[0]/power;\n",
    "    gains[1] = gains[1]/power;\n",
    "    gains[2] = gains[2]/power;\n",
    "\n",
    "    channel_gains = np.zeros(66);\n",
    "    for i in range(3):\n",
    "        aux = int(triplet_indices[winner_set][i]);\n",
    "        channel_gains[aux] = gains[i];\n",
    "    return channel_gains;"
   ]
  },
  {
   "cell_type": "code",
   "execution_count": 11,
   "metadata": {},
   "outputs": [],
   "source": [
    "def getWaveletTransform(azi, ele):\n",
    "    channels = getGains(azi, ele);\n",
    "    #print(channels)\n",
    "    c1 = np.matmul(channels, matrix_A1);\n",
    "    c0 = np.matmul(c1, matrix_A0);\n",
    "    d0 = np.matmul(c1, matrix_B0);\n",
    "    swf_transform = [c0, d0];\n",
    "    return swf_transform;\n",
    "def getCoarses_lvl0(azi, ele):\n",
    "    swf_transform = getWaveletTransform(azi, ele);\n",
    "    coarse = swf_transform[0];\n",
    "    return coarse;\n"
   ]
  },
  {
   "cell_type": "markdown",
   "metadata": {},
   "source": [
    "# Definim les variables de localització"
   ]
  },
  {
   "cell_type": "code",
   "execution_count": 12,
   "metadata": {},
   "outputs": [],
   "source": [
    "azi = 0\n",
    "ele = -90\n",
    "coarse = getCoarses_lvl0(azi, ele)"
   ]
  },
  {
   "cell_type": "markdown",
   "metadata": {},
   "source": [
    "# HRTFs"
   ]
  },
  {
   "cell_type": "code",
   "execution_count": 17,
   "metadata": {},
   "outputs": [],
   "source": [
    "l_HRTF0, fs = sf.read(\"HRTFnova/0az0el_left.wav\")\n",
    "l_HRTF90, fs = sf.read(\"HRTFnova/90az0el_left.wav\")\n",
    "l_HRTF180, fs = sf.read(\"HRTFnova/180az0el_left.wav\")\n",
    "l_HRTF270, fs = sf.read(\"HRTFnova/270az0el_left.wav\")\n",
    "l_HRTFtop, fs = sf.read(\"HRTFnova/0az90el_left.wav\")\n",
    "l_HRTFbot, fs = sf.read(\"HRTFnova/0azneg45el_left.wav\")\n",
    "\n",
    "r_HRTF0, fs = sf.read(\"HRTFnova/0az0el_right.wav\")\n",
    "r_HRTF90, fs = sf.read(\"HRTFnova/90az0el_right.wav\")\n",
    "r_HRTF180, fs = sf.read(\"HRTFnova/180az0el_right.wav\")\n",
    "r_HRTF270, fs = sf.read(\"HRTFnova/270az0el_right.wav\")\n",
    "r_HRTFtop, fs = sf.read(\"HRTFnova/0az90el_right.wav\")\n",
    "r_HRTFbot, fs = sf.read(\"HRTFnova/0azneg45el_right.wav\")\n",
    "\n",
    "L_HRTF = [l_HRTF0, l_HRTF90, l_HRTF180, l_HRTF270, l_HRTFtop, l_HRTFbot]\n",
    "R_HRTF = [r_HRTF0, r_HRTF90, r_HRTF180, r_HRTF270, r_HRTFtop, r_HRTFbot]"
   ]
  },
  {
   "cell_type": "markdown",
   "metadata": {},
   "source": [
    "# Decoder"
   ]
  },
  {
   "cell_type": "code",
   "execution_count": 18,
   "metadata": {},
   "outputs": [],
   "source": [
    "source, fs = sf.read(\"utis/veu.wav\")"
   ]
  },
  {
   "cell_type": "code",
   "execution_count": 24,
   "metadata": {},
   "outputs": [],
   "source": [
    "n,m = len(coarse),len(source)\n",
    "result = np.zeros((n,m))\n",
    "for i in range(6):\n",
    "    result[i] = coarse[i] * source\n",
    "    \n",
    "\n",
    "out_L = 0\n",
    "out_R = 0\n",
    "for i in range(6):\n",
    "    senyal = result[i]\n",
    "    tmp_R = np.convolve(senyal, R_HRTF[i])\n",
    "    tmp_L = np.convolve(senyal, L_HRTF[i])\n",
    "    out_R = out_R + tmp_R\n",
    "    out_L = out_L + tmp_L\n",
    "\n",
    "dataCoarse0 = np.array([out_L,out_R])\n",
    "sf.write('resultatsBinaural/binauralCbot.wav', dataCoarse0.T, fs)"
   ]
  },
  {
   "cell_type": "markdown",
   "metadata": {},
   "source": [
    "# Comprovació "
   ]
  },
  {
   "cell_type": "code",
   "execution_count": 25,
   "metadata": {},
   "outputs": [],
   "source": [
    "tmp_R = np.convolve(source, r_HRTFbot)\n",
    "tmp_L = np.convolve(source, l_HRTFbot)\n",
    "data0 = np.array([tmp_L,tmp_R])"
   ]
  },
  {
   "cell_type": "code",
   "execution_count": 26,
   "metadata": {},
   "outputs": [
    {
     "name": "stdout",
     "output_type": "stream",
     "text": [
      "L'error absolut màxim és:  5.551115123125783e-17\n"
     ]
    },
    {
     "data": {
      "image/png": "[encoded data removed]",
      "text/plain": [
       "<Figure size 432x288 with 1 Axes>"
      ]
     },
     "metadata": {
      "needs_background": "light"
     },
     "output_type": "display_data"
    }
   ],
   "source": [
    "aux = data0-dataCoarse0\n",
    "plt.title(\"Diferència entre senyals\")\n",
    "plt.xlabel(\"Samples\")\n",
    "plt.ylabel(\"Error absolut \")\n",
    "plt.plot(aux[0])\n",
    "\n",
    "\n",
    "print(\"L'error absolut màxim és: \", np.max(np.abs(aux)))"
   ]
  },
  {
   "cell_type": "code",
   "execution_count": 27,
   "metadata": {},
   "outputs": [
    {
     "data": {
      "text/plain": [
       "[<matplotlib.lines.Line2D at 0x2d22d55ae88>]"
      ]
     },
     "execution_count": 27,
     "metadata": {},
     "output_type": "execute_result"
    },
    {
     "data": {
      "image/png": "[encoded data removed]",
      "text/plain": [
       "<Figure size 432x288 with 1 Axes>"
      ]
     },
     "metadata": {
      "needs_background": "light"
     },
     "output_type": "display_data"
    }
   ],
   "source": [
    "aux = data0-dataCoarse0\n",
    "plt.plot(aux[1])"
   ]
  },
  {
   "cell_type": "code",
   "execution_count": null,
   "metadata": {},
   "outputs": [],
   "source": []
  }
 ],
 "metadata": {
  "kernelspec": {
   "display_name": "Python 3",
   "language": "python",
   "name": "python3"
  },
  "language_info": {
   "codemirror_mode": {
    "name": "ipython",
    "version": 3
   },
   "file_extension": ".py",
   "mimetype": "text/x-python",
   "name": "python",
   "nbconvert_exporter": "python",
   "pygments_lexer": "ipython3",
   "version": "3.7.6"
  }
 },
 "nbformat": 4,
 "nbformat_minor": 4
}
